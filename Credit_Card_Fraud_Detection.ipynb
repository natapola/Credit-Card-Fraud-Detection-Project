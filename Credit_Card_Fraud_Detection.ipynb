{
 "cells": [
  {
   "cell_type": "markdown",
   "id": "d42c857b",
   "metadata": {},
   "source": [
    "\n",
    "# Credit Card Fraud Detection Project\n",
    "\n",
    "\n",
    "This project is about finding fraudulent transactions using machine learning. The dataset has credit card transactions, and our goal is to train models to spot fraud. The data comes from [Kaggle](https://www.kaggle.com/datasets/mlg-ulb/creditcardfraud) and has anonymized transaction details labeled as fraud or not fraud.\n",
    "\n",
    "### Project Goals\n",
    "1. Explore the dataset to understand its structure and main features.\n",
    "2. Create graphs to see the differences between fraud and non-fraud transactions.\n",
    "3. Fix the data imbalance and prepare it for modeling.\n",
    "4. Train and test models to classify transactions as fraud or not fraud.\n",
    "\n",
    "### Dataset Description\n",
    "The dataset has anonymized data to keep it confidential. Each row is a transaction with these key features:\n",
    "- **Time:** How long after the first transaction this happened.\n",
    "- **V1, V2, ..., V28:** Features made with PCA to reduce dimensions.\n",
    "- **Amount:** The amount of money in the transaction.\n",
    "- **Class:** The label: `1` means fraud, `0` means it's a normal transaction.\n",
    "\n",
    "\n"
   ]
  },
  {
   "cell_type": "markdown",
   "id": "abc926dd",
   "metadata": {},
   "source": [
    "### Import Necessary Libraries"
   ]
  },
  {
   "cell_type": "code",
   "execution_count": 2,
   "id": "c4efd7bb",
   "metadata": {},
   "outputs": [],
   "source": [
    "\n",
    "import pandas as pd\n",
    "import numpy as np\n",
    "import matplotlib.pyplot as plt\n",
    "import seaborn as sns\n",
    "from sklearn.model_selection import train_test_split\n",
    "from sklearn.ensemble import RandomForestClassifier\n",
    "from sklearn.metrics import classification_report, accuracy_score\n"
   ]
  },
  {
   "cell_type": "markdown",
   "id": "73011a0c",
   "metadata": {},
   "source": [
    "\n",
    "### Load the Dataset\n",
    "\n",
    "The code extracts a ZIP file containing the dataset, verifies the extraction by listing the files, loads the creditcard.csv file into a pandas DataFrame, and displays the first 10 rows for initial inspection. This ensures that the dataset is correctly prepared for further analysis.\n"
   ]
  },
  {
   "cell_type": "code",
   "execution_count": 3,
   "id": "49d41c3d",
   "metadata": {},
   "outputs": [
    {
     "name": "stdout",
     "output_type": "stream",
     "text": [
      "['creditcard.csv']\n"
     ]
    },
    {
     "data": {
      "text/html": [
       "<div>\n",
       "<style scoped>\n",
       "    .dataframe tbody tr th:only-of-type {\n",
       "        vertical-align: middle;\n",
       "    }\n",
       "\n",
       "    .dataframe tbody tr th {\n",
       "        vertical-align: top;\n",
       "    }\n",
       "\n",
       "    .dataframe thead th {\n",
       "        text-align: right;\n",
       "    }\n",
       "</style>\n",
       "<table border=\"1\" class=\"dataframe\">\n",
       "  <thead>\n",
       "    <tr style=\"text-align: right;\">\n",
       "      <th></th>\n",
       "      <th>Time</th>\n",
       "      <th>V1</th>\n",
       "      <th>V2</th>\n",
       "      <th>V3</th>\n",
       "      <th>V4</th>\n",
       "      <th>V5</th>\n",
       "      <th>V6</th>\n",
       "      <th>V7</th>\n",
       "      <th>V8</th>\n",
       "      <th>V9</th>\n",
       "      <th>...</th>\n",
       "      <th>V21</th>\n",
       "      <th>V22</th>\n",
       "      <th>V23</th>\n",
       "      <th>V24</th>\n",
       "      <th>V25</th>\n",
       "      <th>V26</th>\n",
       "      <th>V27</th>\n",
       "      <th>V28</th>\n",
       "      <th>Amount</th>\n",
       "      <th>Class</th>\n",
       "    </tr>\n",
       "  </thead>\n",
       "  <tbody>\n",
       "    <tr>\n",
       "      <th>0</th>\n",
       "      <td>0.0</td>\n",
       "      <td>-1.359807</td>\n",
       "      <td>-0.072781</td>\n",
       "      <td>2.536347</td>\n",
       "      <td>1.378155</td>\n",
       "      <td>-0.338321</td>\n",
       "      <td>0.462388</td>\n",
       "      <td>0.239599</td>\n",
       "      <td>0.098698</td>\n",
       "      <td>0.363787</td>\n",
       "      <td>...</td>\n",
       "      <td>-0.018307</td>\n",
       "      <td>0.277838</td>\n",
       "      <td>-0.110474</td>\n",
       "      <td>0.066928</td>\n",
       "      <td>0.128539</td>\n",
       "      <td>-0.189115</td>\n",
       "      <td>0.133558</td>\n",
       "      <td>-0.021053</td>\n",
       "      <td>149.62</td>\n",
       "      <td>0</td>\n",
       "    </tr>\n",
       "    <tr>\n",
       "      <th>1</th>\n",
       "      <td>0.0</td>\n",
       "      <td>1.191857</td>\n",
       "      <td>0.266151</td>\n",
       "      <td>0.166480</td>\n",
       "      <td>0.448154</td>\n",
       "      <td>0.060018</td>\n",
       "      <td>-0.082361</td>\n",
       "      <td>-0.078803</td>\n",
       "      <td>0.085102</td>\n",
       "      <td>-0.255425</td>\n",
       "      <td>...</td>\n",
       "      <td>-0.225775</td>\n",
       "      <td>-0.638672</td>\n",
       "      <td>0.101288</td>\n",
       "      <td>-0.339846</td>\n",
       "      <td>0.167170</td>\n",
       "      <td>0.125895</td>\n",
       "      <td>-0.008983</td>\n",
       "      <td>0.014724</td>\n",
       "      <td>2.69</td>\n",
       "      <td>0</td>\n",
       "    </tr>\n",
       "    <tr>\n",
       "      <th>2</th>\n",
       "      <td>1.0</td>\n",
       "      <td>-1.358354</td>\n",
       "      <td>-1.340163</td>\n",
       "      <td>1.773209</td>\n",
       "      <td>0.379780</td>\n",
       "      <td>-0.503198</td>\n",
       "      <td>1.800499</td>\n",
       "      <td>0.791461</td>\n",
       "      <td>0.247676</td>\n",
       "      <td>-1.514654</td>\n",
       "      <td>...</td>\n",
       "      <td>0.247998</td>\n",
       "      <td>0.771679</td>\n",
       "      <td>0.909412</td>\n",
       "      <td>-0.689281</td>\n",
       "      <td>-0.327642</td>\n",
       "      <td>-0.139097</td>\n",
       "      <td>-0.055353</td>\n",
       "      <td>-0.059752</td>\n",
       "      <td>378.66</td>\n",
       "      <td>0</td>\n",
       "    </tr>\n",
       "    <tr>\n",
       "      <th>3</th>\n",
       "      <td>1.0</td>\n",
       "      <td>-0.966272</td>\n",
       "      <td>-0.185226</td>\n",
       "      <td>1.792993</td>\n",
       "      <td>-0.863291</td>\n",
       "      <td>-0.010309</td>\n",
       "      <td>1.247203</td>\n",
       "      <td>0.237609</td>\n",
       "      <td>0.377436</td>\n",
       "      <td>-1.387024</td>\n",
       "      <td>...</td>\n",
       "      <td>-0.108300</td>\n",
       "      <td>0.005274</td>\n",
       "      <td>-0.190321</td>\n",
       "      <td>-1.175575</td>\n",
       "      <td>0.647376</td>\n",
       "      <td>-0.221929</td>\n",
       "      <td>0.062723</td>\n",
       "      <td>0.061458</td>\n",
       "      <td>123.50</td>\n",
       "      <td>0</td>\n",
       "    </tr>\n",
       "    <tr>\n",
       "      <th>4</th>\n",
       "      <td>2.0</td>\n",
       "      <td>-1.158233</td>\n",
       "      <td>0.877737</td>\n",
       "      <td>1.548718</td>\n",
       "      <td>0.403034</td>\n",
       "      <td>-0.407193</td>\n",
       "      <td>0.095921</td>\n",
       "      <td>0.592941</td>\n",
       "      <td>-0.270533</td>\n",
       "      <td>0.817739</td>\n",
       "      <td>...</td>\n",
       "      <td>-0.009431</td>\n",
       "      <td>0.798278</td>\n",
       "      <td>-0.137458</td>\n",
       "      <td>0.141267</td>\n",
       "      <td>-0.206010</td>\n",
       "      <td>0.502292</td>\n",
       "      <td>0.219422</td>\n",
       "      <td>0.215153</td>\n",
       "      <td>69.99</td>\n",
       "      <td>0</td>\n",
       "    </tr>\n",
       "    <tr>\n",
       "      <th>5</th>\n",
       "      <td>2.0</td>\n",
       "      <td>-0.425966</td>\n",
       "      <td>0.960523</td>\n",
       "      <td>1.141109</td>\n",
       "      <td>-0.168252</td>\n",
       "      <td>0.420987</td>\n",
       "      <td>-0.029728</td>\n",
       "      <td>0.476201</td>\n",
       "      <td>0.260314</td>\n",
       "      <td>-0.568671</td>\n",
       "      <td>...</td>\n",
       "      <td>-0.208254</td>\n",
       "      <td>-0.559825</td>\n",
       "      <td>-0.026398</td>\n",
       "      <td>-0.371427</td>\n",
       "      <td>-0.232794</td>\n",
       "      <td>0.105915</td>\n",
       "      <td>0.253844</td>\n",
       "      <td>0.081080</td>\n",
       "      <td>3.67</td>\n",
       "      <td>0</td>\n",
       "    </tr>\n",
       "    <tr>\n",
       "      <th>6</th>\n",
       "      <td>4.0</td>\n",
       "      <td>1.229658</td>\n",
       "      <td>0.141004</td>\n",
       "      <td>0.045371</td>\n",
       "      <td>1.202613</td>\n",
       "      <td>0.191881</td>\n",
       "      <td>0.272708</td>\n",
       "      <td>-0.005159</td>\n",
       "      <td>0.081213</td>\n",
       "      <td>0.464960</td>\n",
       "      <td>...</td>\n",
       "      <td>-0.167716</td>\n",
       "      <td>-0.270710</td>\n",
       "      <td>-0.154104</td>\n",
       "      <td>-0.780055</td>\n",
       "      <td>0.750137</td>\n",
       "      <td>-0.257237</td>\n",
       "      <td>0.034507</td>\n",
       "      <td>0.005168</td>\n",
       "      <td>4.99</td>\n",
       "      <td>0</td>\n",
       "    </tr>\n",
       "    <tr>\n",
       "      <th>7</th>\n",
       "      <td>7.0</td>\n",
       "      <td>-0.644269</td>\n",
       "      <td>1.417964</td>\n",
       "      <td>1.074380</td>\n",
       "      <td>-0.492199</td>\n",
       "      <td>0.948934</td>\n",
       "      <td>0.428118</td>\n",
       "      <td>1.120631</td>\n",
       "      <td>-3.807864</td>\n",
       "      <td>0.615375</td>\n",
       "      <td>...</td>\n",
       "      <td>1.943465</td>\n",
       "      <td>-1.015455</td>\n",
       "      <td>0.057504</td>\n",
       "      <td>-0.649709</td>\n",
       "      <td>-0.415267</td>\n",
       "      <td>-0.051634</td>\n",
       "      <td>-1.206921</td>\n",
       "      <td>-1.085339</td>\n",
       "      <td>40.80</td>\n",
       "      <td>0</td>\n",
       "    </tr>\n",
       "    <tr>\n",
       "      <th>8</th>\n",
       "      <td>7.0</td>\n",
       "      <td>-0.894286</td>\n",
       "      <td>0.286157</td>\n",
       "      <td>-0.113192</td>\n",
       "      <td>-0.271526</td>\n",
       "      <td>2.669599</td>\n",
       "      <td>3.721818</td>\n",
       "      <td>0.370145</td>\n",
       "      <td>0.851084</td>\n",
       "      <td>-0.392048</td>\n",
       "      <td>...</td>\n",
       "      <td>-0.073425</td>\n",
       "      <td>-0.268092</td>\n",
       "      <td>-0.204233</td>\n",
       "      <td>1.011592</td>\n",
       "      <td>0.373205</td>\n",
       "      <td>-0.384157</td>\n",
       "      <td>0.011747</td>\n",
       "      <td>0.142404</td>\n",
       "      <td>93.20</td>\n",
       "      <td>0</td>\n",
       "    </tr>\n",
       "    <tr>\n",
       "      <th>9</th>\n",
       "      <td>9.0</td>\n",
       "      <td>-0.338262</td>\n",
       "      <td>1.119593</td>\n",
       "      <td>1.044367</td>\n",
       "      <td>-0.222187</td>\n",
       "      <td>0.499361</td>\n",
       "      <td>-0.246761</td>\n",
       "      <td>0.651583</td>\n",
       "      <td>0.069539</td>\n",
       "      <td>-0.736727</td>\n",
       "      <td>...</td>\n",
       "      <td>-0.246914</td>\n",
       "      <td>-0.633753</td>\n",
       "      <td>-0.120794</td>\n",
       "      <td>-0.385050</td>\n",
       "      <td>-0.069733</td>\n",
       "      <td>0.094199</td>\n",
       "      <td>0.246219</td>\n",
       "      <td>0.083076</td>\n",
       "      <td>3.68</td>\n",
       "      <td>0</td>\n",
       "    </tr>\n",
       "  </tbody>\n",
       "</table>\n",
       "<p>10 rows × 31 columns</p>\n",
       "</div>"
      ],
      "text/plain": [
       "   Time        V1        V2        V3        V4        V5        V6        V7  \\\n",
       "0   0.0 -1.359807 -0.072781  2.536347  1.378155 -0.338321  0.462388  0.239599   \n",
       "1   0.0  1.191857  0.266151  0.166480  0.448154  0.060018 -0.082361 -0.078803   \n",
       "2   1.0 -1.358354 -1.340163  1.773209  0.379780 -0.503198  1.800499  0.791461   \n",
       "3   1.0 -0.966272 -0.185226  1.792993 -0.863291 -0.010309  1.247203  0.237609   \n",
       "4   2.0 -1.158233  0.877737  1.548718  0.403034 -0.407193  0.095921  0.592941   \n",
       "5   2.0 -0.425966  0.960523  1.141109 -0.168252  0.420987 -0.029728  0.476201   \n",
       "6   4.0  1.229658  0.141004  0.045371  1.202613  0.191881  0.272708 -0.005159   \n",
       "7   7.0 -0.644269  1.417964  1.074380 -0.492199  0.948934  0.428118  1.120631   \n",
       "8   7.0 -0.894286  0.286157 -0.113192 -0.271526  2.669599  3.721818  0.370145   \n",
       "9   9.0 -0.338262  1.119593  1.044367 -0.222187  0.499361 -0.246761  0.651583   \n",
       "\n",
       "         V8        V9  ...       V21       V22       V23       V24       V25  \\\n",
       "0  0.098698  0.363787  ... -0.018307  0.277838 -0.110474  0.066928  0.128539   \n",
       "1  0.085102 -0.255425  ... -0.225775 -0.638672  0.101288 -0.339846  0.167170   \n",
       "2  0.247676 -1.514654  ...  0.247998  0.771679  0.909412 -0.689281 -0.327642   \n",
       "3  0.377436 -1.387024  ... -0.108300  0.005274 -0.190321 -1.175575  0.647376   \n",
       "4 -0.270533  0.817739  ... -0.009431  0.798278 -0.137458  0.141267 -0.206010   \n",
       "5  0.260314 -0.568671  ... -0.208254 -0.559825 -0.026398 -0.371427 -0.232794   \n",
       "6  0.081213  0.464960  ... -0.167716 -0.270710 -0.154104 -0.780055  0.750137   \n",
       "7 -3.807864  0.615375  ...  1.943465 -1.015455  0.057504 -0.649709 -0.415267   \n",
       "8  0.851084 -0.392048  ... -0.073425 -0.268092 -0.204233  1.011592  0.373205   \n",
       "9  0.069539 -0.736727  ... -0.246914 -0.633753 -0.120794 -0.385050 -0.069733   \n",
       "\n",
       "        V26       V27       V28  Amount  Class  \n",
       "0 -0.189115  0.133558 -0.021053  149.62      0  \n",
       "1  0.125895 -0.008983  0.014724    2.69      0  \n",
       "2 -0.139097 -0.055353 -0.059752  378.66      0  \n",
       "3 -0.221929  0.062723  0.061458  123.50      0  \n",
       "4  0.502292  0.219422  0.215153   69.99      0  \n",
       "5  0.105915  0.253844  0.081080    3.67      0  \n",
       "6 -0.257237  0.034507  0.005168    4.99      0  \n",
       "7 -0.051634 -1.206921 -1.085339   40.80      0  \n",
       "8 -0.384157  0.011747  0.142404   93.20      0  \n",
       "9  0.094199  0.246219  0.083076    3.68      0  \n",
       "\n",
       "[10 rows x 31 columns]"
      ]
     },
     "execution_count": 3,
     "metadata": {},
     "output_type": "execute_result"
    }
   ],
   "source": [
    "\n",
    "# Load the dataset\n",
    "import zipfile\n",
    "import os\n",
    "with zipfile.ZipFile(\"C:\\\\Users\\\\IntelliBoard\\\\Downloads\\\\archive(2).zip\", 'r') as zip_ref:\n",
    "    zip_ref.extractall('/content/')\n",
    "extracted_files = os.listdir('/content/')\n",
    "print(extracted_files)\n",
    "\n",
    "# Display the first rows of the dataset\n",
    "import pandas as pd\n",
    "data = pd.read_csv('/content/creditcard.csv')\n",
    "data.head(10)\n"
   ]
  },
  {
   "cell_type": "markdown",
   "id": "1fd3aada",
   "metadata": {},
   "source": [
    "**Result:**\n",
    "\n",
    "\n",
    "The extracted file list confirms the successful extraction of creditcard.csv. The dataset preview reveals key columns:\n",
    "\n",
    "Time (elapsed time since the first transaction),\n",
    "V1 to V28 (PCA-anonymized features),\n",
    "Amount (transaction value),\n",
    "Class (fraud indicator: 1 = fraud, 0 = non-fraud).\n",
    "The dataset is ready for preprocessing and analysis."
   ]
  },
  {
   "cell_type": "markdown",
   "id": "f34a9444",
   "metadata": {},
   "source": [
    "**Statistical summary of the dataset's numerical columns** \n",
    "\n",
    "It computes metrics such as count, mean, standard deviation, minimum, maximum, and quartile values (25%, 50%, 75%) for each column. This step helps to understand the overall distribution and variability of the data."
   ]
  },
  {
   "cell_type": "code",
   "execution_count": 4,
   "id": "e6c049c4",
   "metadata": {},
   "outputs": [
    {
     "data": {
      "text/html": [
       "<div>\n",
       "<style scoped>\n",
       "    .dataframe tbody tr th:only-of-type {\n",
       "        vertical-align: middle;\n",
       "    }\n",
       "\n",
       "    .dataframe tbody tr th {\n",
       "        vertical-align: top;\n",
       "    }\n",
       "\n",
       "    .dataframe thead th {\n",
       "        text-align: right;\n",
       "    }\n",
       "</style>\n",
       "<table border=\"1\" class=\"dataframe\">\n",
       "  <thead>\n",
       "    <tr style=\"text-align: right;\">\n",
       "      <th></th>\n",
       "      <th>Time</th>\n",
       "      <th>V1</th>\n",
       "      <th>V2</th>\n",
       "      <th>V3</th>\n",
       "      <th>V4</th>\n",
       "      <th>V5</th>\n",
       "      <th>V6</th>\n",
       "      <th>V7</th>\n",
       "      <th>V8</th>\n",
       "      <th>V9</th>\n",
       "      <th>...</th>\n",
       "      <th>V21</th>\n",
       "      <th>V22</th>\n",
       "      <th>V23</th>\n",
       "      <th>V24</th>\n",
       "      <th>V25</th>\n",
       "      <th>V26</th>\n",
       "      <th>V27</th>\n",
       "      <th>V28</th>\n",
       "      <th>Amount</th>\n",
       "      <th>Class</th>\n",
       "    </tr>\n",
       "  </thead>\n",
       "  <tbody>\n",
       "    <tr>\n",
       "      <th>count</th>\n",
       "      <td>284807.000000</td>\n",
       "      <td>2.848070e+05</td>\n",
       "      <td>2.848070e+05</td>\n",
       "      <td>2.848070e+05</td>\n",
       "      <td>2.848070e+05</td>\n",
       "      <td>2.848070e+05</td>\n",
       "      <td>2.848070e+05</td>\n",
       "      <td>2.848070e+05</td>\n",
       "      <td>2.848070e+05</td>\n",
       "      <td>2.848070e+05</td>\n",
       "      <td>...</td>\n",
       "      <td>2.848070e+05</td>\n",
       "      <td>2.848070e+05</td>\n",
       "      <td>2.848070e+05</td>\n",
       "      <td>2.848070e+05</td>\n",
       "      <td>2.848070e+05</td>\n",
       "      <td>2.848070e+05</td>\n",
       "      <td>2.848070e+05</td>\n",
       "      <td>2.848070e+05</td>\n",
       "      <td>284807.000000</td>\n",
       "      <td>284807.000000</td>\n",
       "    </tr>\n",
       "    <tr>\n",
       "      <th>mean</th>\n",
       "      <td>94813.859575</td>\n",
       "      <td>1.168375e-15</td>\n",
       "      <td>3.416908e-16</td>\n",
       "      <td>-1.379537e-15</td>\n",
       "      <td>2.074095e-15</td>\n",
       "      <td>9.604066e-16</td>\n",
       "      <td>1.487313e-15</td>\n",
       "      <td>-5.556467e-16</td>\n",
       "      <td>1.213481e-16</td>\n",
       "      <td>-2.406331e-15</td>\n",
       "      <td>...</td>\n",
       "      <td>1.654067e-16</td>\n",
       "      <td>-3.568593e-16</td>\n",
       "      <td>2.578648e-16</td>\n",
       "      <td>4.473266e-15</td>\n",
       "      <td>5.340915e-16</td>\n",
       "      <td>1.683437e-15</td>\n",
       "      <td>-3.660091e-16</td>\n",
       "      <td>-1.227390e-16</td>\n",
       "      <td>88.349619</td>\n",
       "      <td>0.001727</td>\n",
       "    </tr>\n",
       "    <tr>\n",
       "      <th>std</th>\n",
       "      <td>47488.145955</td>\n",
       "      <td>1.958696e+00</td>\n",
       "      <td>1.651309e+00</td>\n",
       "      <td>1.516255e+00</td>\n",
       "      <td>1.415869e+00</td>\n",
       "      <td>1.380247e+00</td>\n",
       "      <td>1.332271e+00</td>\n",
       "      <td>1.237094e+00</td>\n",
       "      <td>1.194353e+00</td>\n",
       "      <td>1.098632e+00</td>\n",
       "      <td>...</td>\n",
       "      <td>7.345240e-01</td>\n",
       "      <td>7.257016e-01</td>\n",
       "      <td>6.244603e-01</td>\n",
       "      <td>6.056471e-01</td>\n",
       "      <td>5.212781e-01</td>\n",
       "      <td>4.822270e-01</td>\n",
       "      <td>4.036325e-01</td>\n",
       "      <td>3.300833e-01</td>\n",
       "      <td>250.120109</td>\n",
       "      <td>0.041527</td>\n",
       "    </tr>\n",
       "    <tr>\n",
       "      <th>min</th>\n",
       "      <td>0.000000</td>\n",
       "      <td>-5.640751e+01</td>\n",
       "      <td>-7.271573e+01</td>\n",
       "      <td>-4.832559e+01</td>\n",
       "      <td>-5.683171e+00</td>\n",
       "      <td>-1.137433e+02</td>\n",
       "      <td>-2.616051e+01</td>\n",
       "      <td>-4.355724e+01</td>\n",
       "      <td>-7.321672e+01</td>\n",
       "      <td>-1.343407e+01</td>\n",
       "      <td>...</td>\n",
       "      <td>-3.483038e+01</td>\n",
       "      <td>-1.093314e+01</td>\n",
       "      <td>-4.480774e+01</td>\n",
       "      <td>-2.836627e+00</td>\n",
       "      <td>-1.029540e+01</td>\n",
       "      <td>-2.604551e+00</td>\n",
       "      <td>-2.256568e+01</td>\n",
       "      <td>-1.543008e+01</td>\n",
       "      <td>0.000000</td>\n",
       "      <td>0.000000</td>\n",
       "    </tr>\n",
       "    <tr>\n",
       "      <th>25%</th>\n",
       "      <td>54201.500000</td>\n",
       "      <td>-9.203734e-01</td>\n",
       "      <td>-5.985499e-01</td>\n",
       "      <td>-8.903648e-01</td>\n",
       "      <td>-8.486401e-01</td>\n",
       "      <td>-6.915971e-01</td>\n",
       "      <td>-7.682956e-01</td>\n",
       "      <td>-5.540759e-01</td>\n",
       "      <td>-2.086297e-01</td>\n",
       "      <td>-6.430976e-01</td>\n",
       "      <td>...</td>\n",
       "      <td>-2.283949e-01</td>\n",
       "      <td>-5.423504e-01</td>\n",
       "      <td>-1.618463e-01</td>\n",
       "      <td>-3.545861e-01</td>\n",
       "      <td>-3.171451e-01</td>\n",
       "      <td>-3.269839e-01</td>\n",
       "      <td>-7.083953e-02</td>\n",
       "      <td>-5.295979e-02</td>\n",
       "      <td>5.600000</td>\n",
       "      <td>0.000000</td>\n",
       "    </tr>\n",
       "    <tr>\n",
       "      <th>50%</th>\n",
       "      <td>84692.000000</td>\n",
       "      <td>1.810880e-02</td>\n",
       "      <td>6.548556e-02</td>\n",
       "      <td>1.798463e-01</td>\n",
       "      <td>-1.984653e-02</td>\n",
       "      <td>-5.433583e-02</td>\n",
       "      <td>-2.741871e-01</td>\n",
       "      <td>4.010308e-02</td>\n",
       "      <td>2.235804e-02</td>\n",
       "      <td>-5.142873e-02</td>\n",
       "      <td>...</td>\n",
       "      <td>-2.945017e-02</td>\n",
       "      <td>6.781943e-03</td>\n",
       "      <td>-1.119293e-02</td>\n",
       "      <td>4.097606e-02</td>\n",
       "      <td>1.659350e-02</td>\n",
       "      <td>-5.213911e-02</td>\n",
       "      <td>1.342146e-03</td>\n",
       "      <td>1.124383e-02</td>\n",
       "      <td>22.000000</td>\n",
       "      <td>0.000000</td>\n",
       "    </tr>\n",
       "    <tr>\n",
       "      <th>75%</th>\n",
       "      <td>139320.500000</td>\n",
       "      <td>1.315642e+00</td>\n",
       "      <td>8.037239e-01</td>\n",
       "      <td>1.027196e+00</td>\n",
       "      <td>7.433413e-01</td>\n",
       "      <td>6.119264e-01</td>\n",
       "      <td>3.985649e-01</td>\n",
       "      <td>5.704361e-01</td>\n",
       "      <td>3.273459e-01</td>\n",
       "      <td>5.971390e-01</td>\n",
       "      <td>...</td>\n",
       "      <td>1.863772e-01</td>\n",
       "      <td>5.285536e-01</td>\n",
       "      <td>1.476421e-01</td>\n",
       "      <td>4.395266e-01</td>\n",
       "      <td>3.507156e-01</td>\n",
       "      <td>2.409522e-01</td>\n",
       "      <td>9.104512e-02</td>\n",
       "      <td>7.827995e-02</td>\n",
       "      <td>77.165000</td>\n",
       "      <td>0.000000</td>\n",
       "    </tr>\n",
       "    <tr>\n",
       "      <th>max</th>\n",
       "      <td>172792.000000</td>\n",
       "      <td>2.454930e+00</td>\n",
       "      <td>2.205773e+01</td>\n",
       "      <td>9.382558e+00</td>\n",
       "      <td>1.687534e+01</td>\n",
       "      <td>3.480167e+01</td>\n",
       "      <td>7.330163e+01</td>\n",
       "      <td>1.205895e+02</td>\n",
       "      <td>2.000721e+01</td>\n",
       "      <td>1.559499e+01</td>\n",
       "      <td>...</td>\n",
       "      <td>2.720284e+01</td>\n",
       "      <td>1.050309e+01</td>\n",
       "      <td>2.252841e+01</td>\n",
       "      <td>4.584549e+00</td>\n",
       "      <td>7.519589e+00</td>\n",
       "      <td>3.517346e+00</td>\n",
       "      <td>3.161220e+01</td>\n",
       "      <td>3.384781e+01</td>\n",
       "      <td>25691.160000</td>\n",
       "      <td>1.000000</td>\n",
       "    </tr>\n",
       "  </tbody>\n",
       "</table>\n",
       "<p>8 rows × 31 columns</p>\n",
       "</div>"
      ],
      "text/plain": [
       "                Time            V1            V2            V3            V4  \\\n",
       "count  284807.000000  2.848070e+05  2.848070e+05  2.848070e+05  2.848070e+05   \n",
       "mean    94813.859575  1.168375e-15  3.416908e-16 -1.379537e-15  2.074095e-15   \n",
       "std     47488.145955  1.958696e+00  1.651309e+00  1.516255e+00  1.415869e+00   \n",
       "min         0.000000 -5.640751e+01 -7.271573e+01 -4.832559e+01 -5.683171e+00   \n",
       "25%     54201.500000 -9.203734e-01 -5.985499e-01 -8.903648e-01 -8.486401e-01   \n",
       "50%     84692.000000  1.810880e-02  6.548556e-02  1.798463e-01 -1.984653e-02   \n",
       "75%    139320.500000  1.315642e+00  8.037239e-01  1.027196e+00  7.433413e-01   \n",
       "max    172792.000000  2.454930e+00  2.205773e+01  9.382558e+00  1.687534e+01   \n",
       "\n",
       "                 V5            V6            V7            V8            V9  \\\n",
       "count  2.848070e+05  2.848070e+05  2.848070e+05  2.848070e+05  2.848070e+05   \n",
       "mean   9.604066e-16  1.487313e-15 -5.556467e-16  1.213481e-16 -2.406331e-15   \n",
       "std    1.380247e+00  1.332271e+00  1.237094e+00  1.194353e+00  1.098632e+00   \n",
       "min   -1.137433e+02 -2.616051e+01 -4.355724e+01 -7.321672e+01 -1.343407e+01   \n",
       "25%   -6.915971e-01 -7.682956e-01 -5.540759e-01 -2.086297e-01 -6.430976e-01   \n",
       "50%   -5.433583e-02 -2.741871e-01  4.010308e-02  2.235804e-02 -5.142873e-02   \n",
       "75%    6.119264e-01  3.985649e-01  5.704361e-01  3.273459e-01  5.971390e-01   \n",
       "max    3.480167e+01  7.330163e+01  1.205895e+02  2.000721e+01  1.559499e+01   \n",
       "\n",
       "       ...           V21           V22           V23           V24  \\\n",
       "count  ...  2.848070e+05  2.848070e+05  2.848070e+05  2.848070e+05   \n",
       "mean   ...  1.654067e-16 -3.568593e-16  2.578648e-16  4.473266e-15   \n",
       "std    ...  7.345240e-01  7.257016e-01  6.244603e-01  6.056471e-01   \n",
       "min    ... -3.483038e+01 -1.093314e+01 -4.480774e+01 -2.836627e+00   \n",
       "25%    ... -2.283949e-01 -5.423504e-01 -1.618463e-01 -3.545861e-01   \n",
       "50%    ... -2.945017e-02  6.781943e-03 -1.119293e-02  4.097606e-02   \n",
       "75%    ...  1.863772e-01  5.285536e-01  1.476421e-01  4.395266e-01   \n",
       "max    ...  2.720284e+01  1.050309e+01  2.252841e+01  4.584549e+00   \n",
       "\n",
       "                V25           V26           V27           V28         Amount  \\\n",
       "count  2.848070e+05  2.848070e+05  2.848070e+05  2.848070e+05  284807.000000   \n",
       "mean   5.340915e-16  1.683437e-15 -3.660091e-16 -1.227390e-16      88.349619   \n",
       "std    5.212781e-01  4.822270e-01  4.036325e-01  3.300833e-01     250.120109   \n",
       "min   -1.029540e+01 -2.604551e+00 -2.256568e+01 -1.543008e+01       0.000000   \n",
       "25%   -3.171451e-01 -3.269839e-01 -7.083953e-02 -5.295979e-02       5.600000   \n",
       "50%    1.659350e-02 -5.213911e-02  1.342146e-03  1.124383e-02      22.000000   \n",
       "75%    3.507156e-01  2.409522e-01  9.104512e-02  7.827995e-02      77.165000   \n",
       "max    7.519589e+00  3.517346e+00  3.161220e+01  3.384781e+01   25691.160000   \n",
       "\n",
       "               Class  \n",
       "count  284807.000000  \n",
       "mean        0.001727  \n",
       "std         0.041527  \n",
       "min         0.000000  \n",
       "25%         0.000000  \n",
       "50%         0.000000  \n",
       "75%         0.000000  \n",
       "max         1.000000  \n",
       "\n",
       "[8 rows x 31 columns]"
      ]
     },
     "execution_count": 4,
     "metadata": {},
     "output_type": "execute_result"
    }
   ],
   "source": [
    "data.describe()"
   ]
  },
  {
   "cell_type": "markdown",
   "id": "5fd80ed7",
   "metadata": {},
   "source": [
    "**The data.info() function**\n",
    "\n",
    "This step helps evaluate the structure and completeness of the dataset."
   ]
  },
  {
   "cell_type": "code",
   "execution_count": 5,
   "id": "69d5f03b",
   "metadata": {},
   "outputs": [
    {
     "name": "stdout",
     "output_type": "stream",
     "text": [
      "<class 'pandas.core.frame.DataFrame'>\n",
      "RangeIndex: 284807 entries, 0 to 284806\n",
      "Data columns (total 31 columns):\n",
      " #   Column  Non-Null Count   Dtype  \n",
      "---  ------  --------------   -----  \n",
      " 0   Time    284807 non-null  float64\n",
      " 1   V1      284807 non-null  float64\n",
      " 2   V2      284807 non-null  float64\n",
      " 3   V3      284807 non-null  float64\n",
      " 4   V4      284807 non-null  float64\n",
      " 5   V5      284807 non-null  float64\n",
      " 6   V6      284807 non-null  float64\n",
      " 7   V7      284807 non-null  float64\n",
      " 8   V8      284807 non-null  float64\n",
      " 9   V9      284807 non-null  float64\n",
      " 10  V10     284807 non-null  float64\n",
      " 11  V11     284807 non-null  float64\n",
      " 12  V12     284807 non-null  float64\n",
      " 13  V13     284807 non-null  float64\n",
      " 14  V14     284807 non-null  float64\n",
      " 15  V15     284807 non-null  float64\n",
      " 16  V16     284807 non-null  float64\n",
      " 17  V17     284807 non-null  float64\n",
      " 18  V18     284807 non-null  float64\n",
      " 19  V19     284807 non-null  float64\n",
      " 20  V20     284807 non-null  float64\n",
      " 21  V21     284807 non-null  float64\n",
      " 22  V22     284807 non-null  float64\n",
      " 23  V23     284807 non-null  float64\n",
      " 24  V24     284807 non-null  float64\n",
      " 25  V25     284807 non-null  float64\n",
      " 26  V26     284807 non-null  float64\n",
      " 27  V27     284807 non-null  float64\n",
      " 28  V28     284807 non-null  float64\n",
      " 29  Amount  284807 non-null  float64\n",
      " 30  Class   284807 non-null  int64  \n",
      "dtypes: float64(30), int64(1)\n",
      "memory usage: 67.4 MB\n"
     ]
    }
   ],
   "source": [
    "data.info()"
   ]
  },
  {
   "cell_type": "markdown",
   "id": "2de15757",
   "metadata": {},
   "source": [
    "**Result:**\n",
    "\n",
    "All columns are complete with no missing values.\n"
   ]
  },
  {
   "cell_type": "markdown",
   "id": "4babc7cb",
   "metadata": {},
   "source": [
    "### Clean the Data"
   ]
  },
  {
   "cell_type": "markdown",
   "id": "ae53677a",
   "metadata": {},
   "source": [
    "\n",
    "**Check for Missing Values**\n",
    "\n",
    "To ensure data quality, we start by checking if there are any missing values in the dataset. Missing values can affect the performance of machine learning models, so it's crucial to handle them properly.\n"
   ]
  },
  {
   "cell_type": "code",
   "execution_count": 33,
   "id": "6c1df588",
   "metadata": {},
   "outputs": [
    {
     "name": "stdout",
     "output_type": "stream",
     "text": [
      "Missing values in each column:\n",
      "Time      0\n",
      "V1        0\n",
      "V2        0\n",
      "V3        0\n",
      "V4        0\n",
      "V5        0\n",
      "V6        0\n",
      "V7        0\n",
      "V8        0\n",
      "V9        0\n",
      "V10       0\n",
      "V11       0\n",
      "V12       0\n",
      "V13       0\n",
      "V14       0\n",
      "V15       0\n",
      "V16       0\n",
      "V17       0\n",
      "V18       0\n",
      "V19       0\n",
      "V20       0\n",
      "V21       0\n",
      "V22       0\n",
      "V23       0\n",
      "V24       0\n",
      "V25       0\n",
      "V26       0\n",
      "V27       0\n",
      "V28       0\n",
      "Amount    0\n",
      "Class     0\n",
      "dtype: int64\n"
     ]
    }
   ],
   "source": [
    "\n",
    "# Check for missing values in the dataset\n",
    "missing_values = data.isnull().sum()  # Counts the number of missing (NaN) values in each column\n",
    "\n",
    "# Print the result for each column\n",
    "print(\"Missing values in each column:\")\n",
    "print(missing_values)\n"
   ]
  },
  {
   "cell_type": "markdown",
   "id": "0dbeb302",
   "metadata": {},
   "source": [
    "**Result:**\n",
    "\n",
    "The output confirms that there are no missing values in any column of the dataset. Each column, including Time, V1 to V28, Amount, and Class, has a count of 0 missing values. This ensures that no additional data cleaning for missing values is required, and the dataset is ready for further analysis."
   ]
  },
  {
   "cell_type": "markdown",
   "id": "b05ccb38",
   "metadata": {},
   "source": [
    "\n",
    "**Check for Duplicate Rows**\n",
    "\n",
    "In this step, we will address duplicate rows in the dataset. Duplicate entries can impact analysis and model performance, so they require careful handling. However, we plan to retain fraudulent duplicates (where Class == 1) because they may contain valuable patterns or insights into repeated fraudulent behavior, which are crucial for building an effective fraud detection model. Non-fraudulent duplicates (where Class == 0), on the other hand, will be removed to ensure the dataset remains clean while preserving important information for fraud analysis.\n",
    "\n",
    "Here’s how duplicates were handled:\n",
    "\n",
    "1. **Identify Total Duplicates:** Count all duplicate rows in the dataset.\n",
    "2. **Fraudulent Duplicates:** Count and analyze duplicate rows where `Class == 1` (fraudulent).\n",
    "3. **Non-Fraudulent Duplicates:** Count and analyze duplicate rows where `Class == 0` (non-fraudulent).\n",
    "4. **Remove Non-Fraudulent Duplicates:** Exclude only non-fraudulent duplicates to retain potentially valuable information from fraudulent duplicates."
   ]
  },
  {
   "cell_type": "code",
   "execution_count": 11,
   "id": "2158e37f",
   "metadata": {},
   "outputs": [
    {
     "name": "stdout",
     "output_type": "stream",
     "text": [
      "Total duplicate rows: 1081\n"
     ]
    }
   ],
   "source": [
    "\n",
    "# Identify and count duplicate rows\n",
    "total_duplicates = data.duplicated().sum()\n",
    "print(f\"Total duplicate rows: {total_duplicates}\") \n"
   ]
  },
  {
   "cell_type": "code",
   "execution_count": 12,
   "id": "dab765a3",
   "metadata": {},
   "outputs": [
    {
     "name": "stdout",
     "output_type": "stream",
     "text": [
      "Fraudulent duplicates: 19\n"
     ]
    }
   ],
   "source": [
    "\n",
    "# Count and analyze fraudulent duplicates (Class == 1)\n",
    "fraud_duplicates_count = data[(data.duplicated()) & (data['Class'] == 1)].shape[0]\n",
    "print(f\"Fraudulent duplicates: {fraud_duplicates_count}\")\n"
   ]
  },
  {
   "cell_type": "code",
   "execution_count": 13,
   "id": "6962e712",
   "metadata": {},
   "outputs": [
    {
     "name": "stdout",
     "output_type": "stream",
     "text": [
      "Non-fraudulent duplicates: 1062\n"
     ]
    }
   ],
   "source": [
    "\n",
    "# Count and analyze non-fraudulent duplicates (Class == 0)\n",
    "non_fraud_duplicates_count = data[(data.duplicated()) & (data['Class'] == 0)].shape[0]\n",
    "print(f\"Non-fraudulent duplicates: {non_fraud_duplicates_count}\")\n"
   ]
  },
  {
   "cell_type": "code",
   "execution_count": 14,
   "id": "2de92f1f",
   "metadata": {},
   "outputs": [
    {
     "name": "stdout",
     "output_type": "stream",
     "text": [
      "Dataset shape after removing non-fraudulent duplicates: (283745, 31)\n"
     ]
    }
   ],
   "source": [
    "\n",
    "# Remove non-fraudulent duplicates and keep fraudulent ones\n",
    "data = data[~(data.duplicated() & (data['Class'] == 0))]\n",
    "print(f\"Dataset shape after removing non-fraudulent duplicates: {data.shape}\")\n"
   ]
  },
  {
   "cell_type": "markdown",
   "id": "24feeefc",
   "metadata": {},
   "source": [
    "\n",
    "#### Results:\n",
    "- **Total Duplicate Rows:** 1081 rows.\n",
    "- **Fraudulent Duplicates:** 19 rows.\n",
    "- **Non-Fraudulent Duplicates:** 1062 rows.\n",
    "- **New Dataset Shape:** 283,745 rows and 31 columns.\n",
    "\n",
    "By removing only non-fraudulent duplicates, we ensure the dataset is clean for modeling while preserving essential patterns related to fraudulent activities."
   ]
  },
  {
   "cell_type": "markdown",
   "id": "95b8666a",
   "metadata": {},
   "source": [
    "### Data Analysis\n",
    "In this section, we analyze the dataset to understand the distribution of fraudulent and non-fraudulent transactions. We start by calculating the percentage of fraudulent transactions."
   ]
  },
  {
   "cell_type": "markdown",
   "id": "3ded38fb",
   "metadata": {},
   "source": [
    "**What is the percentage of fraudulent transactions in the dataset?**\n",
    "\n",
    "We calculate the percentage of fraudulent transactions to understand the class imbalance. This step helps identify whether the dataset requires special handling for the minority class (fraudulent transactions)."
   ]
  },
  {
   "cell_type": "code",
   "execution_count": 15,
   "id": "f62dc334",
   "metadata": {},
   "outputs": [
    {
     "name": "stdout",
     "output_type": "stream",
     "text": [
      "Percentage of fraudulent transactions: 0.1734%\n"
     ]
    }
   ],
   "source": [
    "\n",
    "# Calculate the total number of transactions in the dataset\n",
    "total_transactions = data.shape[0] \n",
    "\n",
    "# Calculate the number of fraudulent transactions\n",
    "fraudulent_transactions = data[data['Class'] == 1].shape[0] \n",
    "\n",
    "# Compute the percentage of fraudulent transactions\n",
    "fraud_percentage = (fraudulent_transactions / total_transactions) * 100 \n",
    "\n",
    "# Display the percentage of fraudulent transactions\n",
    "print(f\"Percentage of fraudulent transactions: {fraud_percentage:.4f}%\")\n"
   ]
  },
  {
   "cell_type": "markdown",
   "id": "8740c724",
   "metadata": {},
   "source": [
    "\n",
    "**Result Analysis:**  \n",
    "The dataset contains only 0.1734% fraudulent transactions, showing a significant class imbalance. This imbalance will require specific techniques during modeling to ensure the model accurately identifies fraudulent transactions despite their small proportion.\n"
   ]
  },
  {
   "cell_type": "markdown",
   "id": "56dfe3ff",
   "metadata": {},
   "source": [
    "\n",
    "**What is the average amount of fraudulent transactions?**\n",
    "\n",
    "Calculate the average transaction amount for fraudulent transactions."
   ]
  },
  {
   "cell_type": "code",
   "execution_count": 36,
   "id": "d49e4e49",
   "metadata": {},
   "outputs": [
    {
     "name": "stdout",
     "output_type": "stream",
     "text": [
      "Average amount of fraudulent transactions: $122.21\n"
     ]
    }
   ],
   "source": [
    "\n",
    "# Calculate the average transaction amount for fraudulent transactions\n",
    "average_fraud_amount = data[data['Class'] == 1]['Amount'].mean()\n",
    "\n",
    "# Display the average amount formatted to 2 decimal places\n",
    "print(f\"Average amount of fraudulent transactions: ${average_fraud_amount:.2f}\") \n"
   ]
  },
  {
   "cell_type": "markdown",
   "id": "f6094f8e",
   "metadata": {},
   "source": [
    "\n",
    "**Result Analysis:**  \n",
    "The average amount for fraudulent transactions is $122.21, which can help set thresholds for anomaly detection.\n"
   ]
  },
  {
   "cell_type": "code",
   "execution_count": 16,
   "id": "f7a59c26",
   "metadata": {},
   "outputs": [
    {
     "name": "stdout",
     "output_type": "stream",
     "text": [
      "Statistical Summary of Fraudulent Transactions:\n",
      "                Time          V1          V2          V3          V4  \\\n",
      "count     492.000000  492.000000  492.000000  492.000000  492.000000   \n",
      "mean    80746.806911   -4.771948    3.623778   -7.033281    4.542029   \n",
      "std     47835.365138    6.783687    4.291216    7.110937    2.873318   \n",
      "min       406.000000  -30.552380   -8.402154  -31.103685   -1.313275   \n",
      "25%     41241.500000   -6.036063    1.188226   -8.643489    2.373050   \n",
      "50%     75568.500000   -2.342497    2.717869   -5.075257    4.177147   \n",
      "75%    128483.000000   -0.419200    4.971257   -2.276185    6.348729   \n",
      "max    170348.000000    2.132386   22.057729    2.250210   12.114672   \n",
      "\n",
      "               V5          V6          V7          V8          V9  ...  \\\n",
      "count  492.000000  492.000000  492.000000  492.000000  492.000000  ...   \n",
      "mean    -3.151225   -1.397737   -5.568731    0.570636   -2.581123  ...   \n",
      "std      5.372468    1.858124    7.206773    6.797831    2.500896  ...   \n",
      "min    -22.105532   -6.406267  -43.557242  -41.044261  -13.434066  ...   \n",
      "25%     -4.792835   -2.501511   -7.965295   -0.195336   -3.872383  ...   \n",
      "50%     -1.522962   -1.424616   -3.034402    0.621508   -2.208768  ...   \n",
      "75%      0.214562   -0.413216   -0.945954    1.764879   -0.787850  ...   \n",
      "max     11.095089    6.474115    5.802537   20.007208    3.353525  ...   \n",
      "\n",
      "              V21         V22         V23         V24         V25         V26  \\\n",
      "count  492.000000  492.000000  492.000000  492.000000  492.000000  492.000000   \n",
      "mean     0.713588    0.014049   -0.040308   -0.105130    0.041449    0.051648   \n",
      "std      3.869304    1.494602    1.579642    0.515577    0.797205    0.471679   \n",
      "min    -22.797604   -8.887017  -19.254328   -2.028024   -4.781606   -1.152671   \n",
      "25%      0.041787   -0.533764   -0.342175   -0.436809   -0.314348   -0.259416   \n",
      "50%      0.592146    0.048434   -0.073135   -0.060795    0.088371    0.004321   \n",
      "75%      1.244611    0.617474    0.308378    0.285328    0.456515    0.396733   \n",
      "max     27.202839    8.361985    5.466230    1.091435    2.208209    2.745261   \n",
      "\n",
      "              V27         V28       Amount  Class  \n",
      "count  492.000000  492.000000   492.000000  492.0  \n",
      "mean     0.170575    0.075667   122.211321    1.0  \n",
      "std      1.376766    0.547291   256.683288    0.0  \n",
      "min     -7.263482   -1.869290     0.000000    1.0  \n",
      "25%     -0.020025   -0.108868     1.000000    1.0  \n",
      "50%      0.394926    0.146344     9.250000    1.0  \n",
      "75%      0.826029    0.381152   105.890000    1.0  \n",
      "max      3.052358    1.779364  2125.870000    1.0  \n",
      "\n",
      "[8 rows x 31 columns]\n"
     ]
    }
   ],
   "source": [
    "# Filter only the fraudulent transactions from the dataset\n",
    "fraud_transactions = data[data['Class'] == 1] \n",
    "\n",
    "# Generate a statistical summary for fraudulent transactions\n",
    "fraud_stats = fraud_transactions.describe()  # Compute descriptive statistics for all columns in fraudulent transactions\n",
    "\n",
    "# Display the statistical summary\n",
    "print(\"Statistical Summary of Fraudulent Transactions:\")\n",
    "print(fraud_stats)  \n"
   ]
  },
  {
   "cell_type": "markdown",
   "id": "e5e6f772",
   "metadata": {},
   "source": [
    "**Result Analysis:**\n",
    "\n",
    "The statistical summary of fraudulent transactions provides valuable insights:\n",
    "\n",
    "Time: Fraudulent transactions happen at different times, with an average time of 80,746 seconds (~22.4 hours) from the dataset start. However, the timing varies a lot (±47,835 seconds or ~13.3 hours).\n",
    "\n",
    "Features (V1 to V28): Some of these values are unusual and might help in identifying fraud.\n",
    "\n",
    "Amount: The average fraudulent transaction amount is $122.21. \n",
    "Most are below $105.89, but the maximum is $2,125.87.\n",
    "\n",
    "Class: All rows analyzed here are fraudulent transactions.\n",
    "\n",
    "This analysis helps us understand fraudulent transactions better and prepare the model to detect them."
   ]
  },
  {
   "cell_type": "markdown",
   "id": "4e12781b",
   "metadata": {},
   "source": [
    "### Data visualization"
   ]
  },
  {
   "cell_type": "markdown",
   "id": "b2b861a4",
   "metadata": {},
   "source": [
    "\n",
    "**How many fraudulent transactions are there compared to non-fraudulent ones? (Use a bar graph) Visualize Fraudulent vs Non-Fraudulent Transactions**\n",
    "\n",
    "To better understand the class distribution in the dataset, we compare the counts of fraudulent and non-fraudulent transactions using a bar chart. This allows us to clearly see the imbalance between the two classes.\n"
   ]
  },
  {
   "cell_type": "code",
   "execution_count": 17,
   "id": "0c1323cd",
   "metadata": {},
   "outputs": [
    {
     "name": "stdout",
     "output_type": "stream",
     "text": [
      "Fraudulent transactions - 492\n",
      "Non_fraudulent transactions - 283253\n"
     ]
    }
   ],
   "source": [
    "import matplotlib.pyplot as plt  \n",
    "import seaborn as sns  \n",
    "import warnings \n",
    "warnings.filterwarnings('ignore')  \n",
    "\n",
    "# Count the number of fraudulent transactions (Class == 1)\n",
    "fraudulent_count = data[data['Class'] == 1].shape[0]  \n",
    "\n",
    "# Count the number of non-fraudulent transactions (Class == 0)\n",
    "non_fraudulent_count = data[data['Class'] == 0].shape[0]\n",
    "\n",
    "# Print the counts\n",
    "print(f\"Fraudulent transactions - {fraudulent_count}\") \n",
    "print(f\"Non_fraudulent transactions - {non_fraudulent_count}\")  "
   ]
  },
  {
   "cell_type": "code",
   "execution_count": 37,
   "id": "771efaa2",
   "metadata": {},
   "outputs": [
    {
     "data": {
      "image/png": "[encoded data removed]",
      "text/plain": [
       "<Figure size 800x600 with 1 Axes>"
      ]
     },
     "metadata": {},
     "output_type": "display_data"
    }
   ],
   "source": [
    "# Define the counts for fraudulent and non-fraudulent transactions\n",
    "transaction_counts = {'Type': ['Fraudulent', 'Non-Fraudulent'], 'Count': [fraudulent_count, non_fraudulent_count]}\n",
    "\n",
    "# Convert the dictionary to a pandas DataFrame\n",
    "transaction_data = pd.DataFrame(transaction_counts)\n",
    "\n",
    "# Create the bar plot\n",
    "plt.figure(figsize=(8, 6))  # Set the size of the plot\n",
    "sns.barplot(data=transaction_data, x='Type', y='Count', palette=['#FF6347', '#4682B4'])  # Create the bar plot\n",
    "plt.title('Distribution of Fraudulent vs Non-Fraudulent Transactions')  # Add a title\n",
    "plt.xlabel('Transaction Type')  # Label for the x-axis\n",
    "plt.ylabel('Number of Transactions')  # Label for the y-axis\n",
    "\n",
    "# Display the plot\n",
    "plt.show()\n"
   ]
  },
  {
   "cell_type": "markdown",
   "id": "cb1a7e90",
   "metadata": {},
   "source": [
    "**Result Analysis:**\n",
    "\n",
    "The bar plot clearly illustrates the extreme class imbalance:\n",
    "\n",
    "The count of fraudulent transactions (492) is significantly smaller compared to non-fraudulent transactions (283,253).\n",
    "This visual highlights the need to address this imbalance during model training, such as through resampling techniques."
   ]
  },
  {
   "cell_type": "markdown",
   "id": "3819c67d",
   "metadata": {},
   "source": [
    "**Another example with percentage**"
   ]
  },
  {
   "cell_type": "code",
   "execution_count": 24,
   "id": "6cf2c43c",
   "metadata": {},
   "outputs": [
    {
     "data": {
      "image/png": "[encoded data removed]",
      "text/plain": [
       "<Figure size 1000x600 with 1 Axes>"
      ]
     },
     "metadata": {},
     "output_type": "display_data"
    }
   ],
   "source": [
    "# Calculate the total number of transactions\n",
    "total_transactions = fraudulent_count + non_fraudulent_count\n",
    "\n",
    "# Calculate the percentage for fraudulent transactions\n",
    "fraud_percentage = (fraudulent_count / total_transactions) * 100\n",
    "\n",
    "# Calculate the percentage for non-fraudulent transactions\n",
    "non_fraud_percentage = (non_fraudulent_count / total_transactions) * 100\n",
    "\n",
    "# Create labels for the x-axis with percentages\n",
    "class_labels = [\n",
    "    f\"Fraudulent ({fraud_percentage:.2f}%)\",\n",
    "    f\"Non-Fraudulent ({non_fraud_percentage:.2f}%)\"\n",
    "]\n",
    "\n",
    "# Plot the boxplot for transaction amounts by class\n",
    "plt.figure(figsize=(10, 6))\n",
    "sns.boxplot(x='Class', y='Amount', data=data, palette='Set2')\n",
    "plt.title(\"Transaction Amounts by Class\")\n",
    "plt.xlabel(\"Class\")\n",
    "plt.ylabel(\"Transaction Amount\")\n",
    "\n",
    "# Add labels with percentages to the x-axis\n",
    "plt.xticks([0, 1], class_labels)\n",
    "plt.show()"
   ]
  },
  {
   "cell_type": "markdown",
   "id": "90979c12",
   "metadata": {},
   "source": [
    "\n",
    "**What is the distribution of the amounts of fraudulent transactions? (Use a histogram)**\n",
    "\n",
    "Create a histogram to analyze the distribution of fraudulent transaction amounts.\n"
   ]
  },
  {
   "cell_type": "code",
   "execution_count": 38,
   "id": "0a6b8508",
   "metadata": {},
   "outputs": [
    {
     "data": {
      "image/png": "[encoded data removed]",
      "text/plain": [
       "<Figure size 1000x600 with 1 Axes>"
      ]
     },
     "metadata": {},
     "output_type": "display_data"
    }
   ],
   "source": [
    "\n",
    "# Filter the dataset to include only fraudulent transactions (Class == 1)\n",
    "fraud_transactions = data[data['Class'] == 1]\n",
    "\n",
    "# Set the plot\n",
    "plt.figure(figsize=(10, 6))\n",
    "plt.hist(fraud_transactions['Amount'], bins=40, color='purple', edgecolor='black', alpha=0.7)\n",
    "\n",
    "# Add a density plot for smoother visualization of the distribution\n",
    "sns.kdeplot(fraud_transactions['Amount'], color='orange', linewidth=2)\n",
    "\n",
    "# Add title and labels to the plot\n",
    "plt.title('Distribution of Fraudulent Transaction Amounts')\n",
    "plt.xlabel('Transaction Amount')\n",
    "plt.ylabel('Frequency')\n",
    "\n",
    "# Add gridlines to the y-axis for better readability\n",
    "plt.grid(axis='y', alpha=0.75)\n",
    "\n",
    "# Display the plot\n",
    "plt.show()\n"
   ]
  },
  {
   "cell_type": "markdown",
   "id": "643e1af6",
   "metadata": {},
   "source": [
    "\n",
    "**Result Analysis:**  \n",
    "\n",
    "The histogram shows that most fraudulent transactions involve small amounts, which group around lower values. Only a few transactions have larger amounts, as seen in the tail of the distribution. This plot helps understand how fraudulent transactions are typically distributed.\n"
   ]
  },
  {
   "cell_type": "markdown",
   "id": "c9a392b9",
   "metadata": {},
   "source": [
    "### Let's Perform Additional Analyses\n",
    "\n",
    "To better understand the data and explore patterns of fraudulent behavior, I decided to include a few extra analyses beyond the main project tasks. These analyses look at things like when fraudulent transactions happen most often (hourly distribution), spotting transactions over $1000, and finding accounts with the highest number of fraud cases. Even though these don’t directly impact the model training, they give helpful insights and reveal patterns that could guide future approaches to fraud detection and prevention."
   ]
  },
  {
   "cell_type": "markdown",
   "id": "e08e0ddc",
   "metadata": {},
   "source": [
    "### Hourly distribution of fraudulent transactions"
   ]
  },
  {
   "cell_type": "code",
   "execution_count": 28,
   "id": "b746c123",
   "metadata": {},
   "outputs": [
    {
     "data": {
      "image/png": "[encoded data removed]",
      "text/plain": [
       "<Figure size 1200x600 with 1 Axes>"
      ]
     },
     "metadata": {},
     "output_type": "display_data"
    }
   ],
   "source": [
    "# Add a column for the hour of the day based on the 'Time' column\n",
    "fraud_transactions['Hour'] = (fraud_transactions['Time'] / 3600) % 24  # Convert seconds to hours modulo 24\n",
    "\n",
    "# Plot the distribution of fraudulent transactions by hour of the day\n",
    "plt.figure(figsize=(12, 6)) \n",
    "sns.histplot(fraud_transactions['Hour'], bins=24, color='red', kde=False)  # Plot histogram for 24 hours\n",
    "plt.title(\"Hourly Distribution of Fraudulent Transactions\") \n",
    "plt.xlabel(\"Hour of the Day\") \n",
    "plt.ylabel(\"Number of Fraudulent Transactions\") \n",
    "plt.grid(axis='y', linestyle='--', alpha=0.7)  # Add gridlines for better readability\n",
    "plt.show() \n"
   ]
  },
  {
   "cell_type": "markdown",
   "id": "4a420915",
   "metadata": {},
   "source": [
    "**Result:**\n",
    "\n",
    "**Peak Hours:**\n",
    "\n",
    "\n",
    "Peak Hours: Fraudulent transactions peak around hour 12. Moderate activity is also observed during early hours (2-3) and evening hours (18-19).\n",
    "\n",
    "Low Activity Periods: Hours 6-9 show the least fraudulent activity.\n",
    "\n",
    "Insights: Fraudulent activity is not evenly distributed throughout the day, possibly influenced by operational patterns or time zones.\n",
    "\n",
    "**Key Takeaways:**\n",
    "\n",
    "Focus monitoring efforts during high-risk hours.\n",
    "\n",
    "Explore patterns linking fraud to specific times or events."
   ]
  },
  {
   "cell_type": "markdown",
   "id": "c2c4c643",
   "metadata": {},
   "source": [
    "### Fraudulent transactions with amounts greater than $1000\n",
    "\n",
    "\n",
    "In this analysis, we focus on fraudulent transactions with amounts exceeding $1000. By narrowing our scope to these high-value transactions, we aim to identify patterns and trends that might indicate targeted fraudulent behavior. Additionally, visualizing these transactions helps us understand their distribution.\n"
   ]
  },
  {
   "cell_type": "code",
   "execution_count": 29,
   "id": "fd3c3340",
   "metadata": {},
   "outputs": [
    {
     "name": "stdout",
     "output_type": "stream",
     "text": [
      "High-value fraudulent transactions (> $1000): 9\n",
      "          Time   Amount\n",
      "6971    9064.0  1809.68\n",
      "10690  18088.0  1218.89\n",
      "81609  59011.0  1389.56\n",
      "89190  62467.0  1402.16\n",
      "95597  65385.0  1354.25\n"
     ]
    },
    {
     "data": {
      "image/png": "[encoded data removed]",
      "text/plain": [
       "<Figure size 640x480 with 1 Axes>"
      ]
     },
     "metadata": {},
     "output_type": "display_data"
    }
   ],
   "source": [
    "\n",
    "# Filter fraudulent transactions with amounts greater than $1000\n",
    "high_amount_fraud = fraud_transactions[fraud_transactions['Amount'] > 1000]\n",
    "\n",
    "# Count and display summary\n",
    "print(f\"High-value fraudulent transactions (> $1000): {len(high_amount_fraud)}\")\n",
    "print(high_amount_fraud[['Time', 'Amount']].head())  # Show only key details\n",
    "\n",
    "# Plot distribution\n",
    "plt.hist(high_amount_fraud['Amount'], bins=10, color='red', alpha=0.7)\n",
    "plt.title(\"High-Value Fraudulent Transactions\")\n",
    "plt.xlabel(\"Transaction Amount\")\n",
    "plt.ylabel(\"Count\")\n",
    "plt.grid(True)\n",
    "plt.show()\n"
   ]
  },
  {
   "cell_type": "markdown",
   "id": "40ebedc7",
   "metadata": {},
   "source": [
    "\n",
    "The dataset contains only 9 fraudulent transactions with amounts greater than $1000. This indicates that high-value fraudulent transactions are relatively rare. The histogram and density plot provide insights into the frequency and patterns of such transactions, which can inform targeted monitoring strategies.\n"
   ]
  },
  {
   "cell_type": "markdown",
   "id": "cf18d4ed",
   "metadata": {},
   "source": [
    "\n",
    "### Accounts (or identifiers) with the highest number of fraudulent transactions\n",
    "\n",
    "Here, I wanted to see which accounts (or identifiers) were involved in the highest number of fraudulent transactions. This kind of analysis can reveal patterns of repeated fraud and help to focus on accounts that may need further investigation or tighter security measures. \n",
    "\n",
    "The bar chart below displays the top 10 accounts with the highest number of fraudulent transactions.\n"
   ]
  },
  {
   "cell_type": "code",
   "execution_count": 30,
   "id": "d05834bb",
   "metadata": {},
   "outputs": [
    {
     "data": {
      "image/png": "[encoded data removed]",
      "text/plain": [
       "<Figure size 1000x600 with 1 Axes>"
      ]
     },
     "metadata": {},
     "output_type": "display_data"
    }
   ],
   "source": [
    "\n",
    "# Analyze accounts with the most fraudulent transactions\n",
    "fraud_by_account = fraud_transactions['V1'].value_counts().head(10)  # Count occurrences in 'V1' (or account identifier)\n",
    "\n",
    "# Visualize the top accounts with most fraudulent transactions\n",
    "fraud_by_account.plot(kind='bar', figsize=(10, 6), color='orange', alpha=0.8)\n",
    "plt.title(\"Top Accounts with Most Fraudulent Transactions\")\n",
    "plt.xlabel(\"Account ID (or Identifier)\")\n",
    "plt.ylabel(\"Number of Fraudulent Transactions\")\n",
    "plt.xticks(rotation=45)  # Rotate x-axis labels for better readability\n",
    "plt.show()\n"
   ]
  },
  {
   "cell_type": "markdown",
   "id": "4696cc22",
   "metadata": {},
   "source": [
    "**Result:**\n",
    "\n",
    "The bar chart shows the accounts (or identifiers) with the highest number of fraudulent transactions:\n",
    "\n",
    "Key Accounts: One account stands out with 6 fraudulent transactions, while another has 4.\n",
    "\n",
    "Other Accounts: The rest show 2 fraudulent transactions each, still worth attention.\n",
    "\n",
    "Insights: These accounts may represent organized fraud or compromised systems. Monitoring them can help prevent further fraud and focus resources on high-risk areas.\n"
   ]
  },
  {
   "cell_type": "markdown",
   "id": "592fd4e3",
   "metadata": {},
   "source": [
    "### Model Development and Evaluation\n",
    "\n",
    "In this part of the project, I will prepare the data and start building a machine learning model to detect fraudulent transactions.\n",
    "\n",
    "**Steps in Data Preparation:**\n",
    "\n",
    "1. Separate Features and Target:\n",
    "\n",
    "\n",
    "I split the data into features (all columns except Class) and the target (Class), which tells us if a transaction is fraudulent (1) or not (0).\n",
    "\n",
    "2. Standardize Features:\n",
    "\n",
    "\n",
    "To make sure the data is scaled properly, I use a standardization technique that centers the data around 0 and scales it to have a standard deviation of 1.\n",
    "\n",
    "3. Split the Data:\n",
    "\n",
    "\n",
    "The dataset is divided into two parts: 80% for training the model and 20% for testing it. This helps us evaluate how well the model works on new, unseen data.\n",
    "\n",
    "4. Check Class Distribution:\n",
    "\n",
    "\n",
    "After splitting, I check how many fraudulent (1) and non-fraudulent (0) transactions are in the training set. This ensures that the class imbalance in the data is maintained.\n"
   ]
  },
  {
   "cell_type": "code",
   "execution_count": 31,
   "id": "9cba9528",
   "metadata": {},
   "outputs": [
    {
     "name": "stdout",
     "output_type": "stream",
     "text": [
      "Class distribution in y_train after splitting:\n",
      "Class\n",
      "0    226591\n",
      "1       405\n",
      "Name: count, dtype: int64\n"
     ]
    }
   ],
   "source": [
    "\n",
    "# Import train-test split function\n",
    "from sklearn.model_selection import train_test_split\n",
    "\n",
    "# Separate features (X) and target variable (y)\n",
    "X = data.drop(columns=['Class'])  # Features\n",
    "y = data['Class']  # Target column\n",
    "\n",
    "# Standardize the features\n",
    "from sklearn.preprocessing import StandardScaler  # Scaling tool\n",
    "scaler = StandardScaler()  # Initialize scaler\n",
    "X_scaled = scaler.fit_transform(X)  # Standardize the features\n",
    "\n",
    "# Split the dataset into training and testing data\n",
    "X_train, X_test, y_train, y_test = train_test_split(\n",
    "    X_scaled, y, test_size=0.2, random_state=42\n",
    ")  # 80% training, 20% testing\n",
    "\n",
    "# Check and print class distribution\n",
    "print(\"Class distribution in y_train after splitting:\")\n",
    "print(y_train.value_counts())  # Show counts of 0 and 1\n"
   ]
  },
  {
   "cell_type": "markdown",
   "id": "91cdc573",
   "metadata": {},
   "source": [
    "**Class Distribution in y_train:**\n",
    "\n",
    "\n",
    "The split shows that the training set has 226,591 non-fraudulent transactions (class 0) and only 405 fraudulent transactions (class 1). This huge imbalance is not surprising, as fraud cases are rare in real-world data.\n",
    "\n",
    "**Why This Step Is Important:**\n",
    "\n",
    "\n",
    "Maintaining this imbalance in the training and testing sets is important because it reflects the real-world scenario and ensures the model learns to handle these differences effectively."
   ]
  },
  {
   "cell_type": "markdown",
   "id": "23b4e718",
   "metadata": {},
   "source": [
    "\n",
    "**Build and Evaluate Random Forest Classifier**\n",
    "\n",
    "In this step, I used a RandomForestClassifier to detect fraudulent transactions. Here's how it works:\n",
    "\n",
    "1. Initialize the Classifier:\n",
    "\n",
    "I set max_depth=150 to control how deep the decision trees can grow and random_state=42 to get consistent results every time the code runs.\n",
    "\n",
    "2. Train the Model:\n",
    "\n",
    "Using rf_model.fit(X_train, y_train), the classifier learns patterns from the training data.\n",
    "\n",
    "3. Make Predictions:\n",
    "\n",
    "With rf_model.predict(X_test), the model predicts whether the transactions in the test set are fraudulent or not.\n",
    "\n",
    "4. Evaluate the Results:\n",
    "\n",
    "The classification_report gives detailed metrics like precision, recall, and F1-score for each class.\n",
    "The accuracy_score tells how well the model performs overall.\n",
    "This step is key to understanding how well the model detects fraud and where it can be improved.\n"
   ]
  },
  {
   "cell_type": "code",
   "execution_count": 32,
   "id": "1c4aaacf",
   "metadata": {},
   "outputs": [
    {
     "name": "stdout",
     "output_type": "stream",
     "text": [
      "Random Forest Model Evaluation:\n",
      "              precision    recall  f1-score   support\n",
      "\n",
      "           0       1.00      1.00      1.00     56662\n",
      "           1       0.93      0.71      0.81        87\n",
      "\n",
      "    accuracy                           1.00     56749\n",
      "   macro avg       0.96      0.86      0.90     56749\n",
      "weighted avg       1.00      1.00      1.00     56749\n",
      "\n",
      "Accuracy: 99.95%\n"
     ]
    }
   ],
   "source": [
    "\n",
    "# Import necessary class for Random Forest\n",
    "from sklearn.ensemble import RandomForestClassifier\n",
    "\n",
    "# Initialize Random Forest Classifier\n",
    "rf_model = RandomForestClassifier(max_depth=150, random_state=42)  # Configure max depth and random state\n",
    "\n",
    "# Train the Random Forest model on training data\n",
    "rf_model.fit(X_train, y_train)\n",
    "\n",
    "# Make predictions on the test set\n",
    "y_pred_rf = rf_model.predict(X_test)\n",
    "\n",
    "# Evaluate the model performance\n",
    "from sklearn.metrics import classification_report, accuracy_score  # Import evaluation metrics\n",
    "\n",
    "# Display detailed classification metrics\n",
    "print(\"Random Forest Model Evaluation:\")\n",
    "print(classification_report(y_test, y_pred_rf))  # Precision, recall, F1-score, and support\n",
    "\n",
    "# Calculate and display overall accuracy\n",
    "accuracy_rf = accuracy_score(y_test, y_pred_rf)  # Compute accuracy\n",
    "print(f\"Accuracy: {accuracy_rf * 100:.2f}%\")  # Display accuracy as a percentage\n"
   ]
  },
  {
   "cell_type": "markdown",
   "id": "bbe47188",
   "metadata": {},
   "source": [
    "**Model shows the following performance metrics:**\n",
    "\n",
    "\n",
    "**Class 0 (Non-Fraudulent Transactions):**\n",
    "\n",
    "\n",
    "Precision: 1.00 — All predicted non-fraudulent transactions are correct.\n",
    "\n",
    "Recall: 1.00 — The model correctly identifies all actual non-fraudulent transactions.\n",
    "\n",
    "F1-Score: 1.00 — Perfect balance between precision and recall.\n",
    "\n",
    "\n",
    "**Class 1 (Fraudulent Transactions):**\n",
    "\n",
    "\n",
    "Precision: 0.93 — 93% of predicted fraudulent transactions are correct.\n",
    "\n",
    "Recall: 0.71 — The model correctly identifies 71% of actual fraudulent transactions.\n",
    "\n",
    "F1-Score: 0.81 — A balance between precision and recall, reflecting slight difficulty in detecting all fraudulent transactions.\n",
    "\n",
    "\n",
    "**Accuracy:**\n",
    "\n",
    "\n",
    "The overall accuracy of the model is 99.95%, indicating that almost all transactions were classified correctly.\n",
    "\n",
    "\n",
    "**Macro Average:**\n",
    "\n",
    "Precision: 0.96, Recall: 0.86, F1-Score: 0.90 — Average scores for both classes, showing good performance but still room for improvement in fraud detection.\n",
    "\n",
    "\n",
    "**Weighted Average:**\n",
    "\n",
    "\n",
    "Precision: 1.00, Recall: 1.00, F1-Score: 1.00 — These values are heavily influenced by the majority class (non-fraudulent transactions) due to the class imbalance."
   ]
  },
  {
   "cell_type": "markdown",
   "id": "ae17fe32",
   "metadata": {},
   "source": [
    "### Conclusion\n",
    "\n",
    "In this project, I developed and evaluated a machine learning model to detect fraudulent credit card transactions. By applying techniques like oversampling to address the class imbalance, I trained a Random Forest classifier that achieved an impressive accuracy of 99.95%.\n",
    "\n",
    "Although the model performed very well overall, I observed that the recall for fraudulent transactions was lower than expected, which means it missed some fraudulent cases. This suggests that there’s still room for improvement, especially in detecting fraud cases more accurately.\n",
    "\n",
    "In future work, I could experiment with different models or fine-tune the current one to improve recall and better detect fraudulent transactions. Additionally, exploring further features or applying other techniques could enhance the model’s performance.\n",
    "\n",
    "Overall, this project gave me valuable experience in data preprocessing, model training, and evaluation, and I’m excited to apply these skills to future projects!"
   ]
  }
 ],
 "metadata": {
  "kernelspec": {
   "display_name": "Python 3 (ipykernel)",
   "language": "python",
   "name": "python3"
  },
  "language_info": {
   "codemirror_mode": {
    "name": "ipython",
    "version": 3
   },
   "file_extension": ".py",
   "mimetype": "text/x-python",
   "name": "python",
   "nbconvert_exporter": "python",
   "pygments_lexer": "ipython3",
   "version": "3.12.4"
  }
 },
 "nbformat": 4,
 "nbformat_minor": 5
}
